{
 "cells": [
  {
   "cell_type": "code",
   "execution_count": 2,
   "id": "c3037677",
   "metadata": {},
   "outputs": [],
   "source": [
    "from dotenv import load_dotenv\n",
    "import os"
   ]
  },
  {
   "cell_type": "code",
   "execution_count": 3,
   "id": "96cda8d3",
   "metadata": {},
   "outputs": [],
   "source": [
    "def load_environment_variables():\n",
    "    \"\"\"\n",
    "    Load environment variables from a .env file.\n",
    "    \"\"\"\n",
    "    load_dotenv()"
   ]
  },
  {
   "cell_type": "code",
   "execution_count": 7,
   "id": "b960e3d1",
   "metadata": {},
   "outputs": [
    {
     "name": "stdout",
     "output_type": "stream",
     "text": [
      "Loading environment variables...\n",
      "Environment variables loaded successfully.\n"
     ]
    }
   ],
   "source": [
    "print(\"Loading environment variables...\")\n",
    "load_environment_variables()\n",
    "print(\"Environment variables loaded successfully.\")\n",
    "# Example usage of an environment variable\n",
    "example_variable = os.getenv('API_YT')"
   ]
  }
 ],
 "metadata": {
  "kernelspec": {
   "display_name": ".venv",
   "language": "python",
   "name": "python3"
  },
  "language_info": {
   "codemirror_mode": {
    "name": "ipython",
    "version": 3
   },
   "file_extension": ".py",
   "mimetype": "text/x-python",
   "name": "python",
   "nbconvert_exporter": "python",
   "pygments_lexer": "ipython3",
   "version": "3.11.9"
  }
 },
 "nbformat": 4,
 "nbformat_minor": 5
}
