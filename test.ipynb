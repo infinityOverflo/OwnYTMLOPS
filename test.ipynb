{
 "cells": [
  {
   "cell_type": "code",
   "execution_count": 18,
   "id": "953fd89e",
   "metadata": {},
   "outputs": [],
   "source": [
    "from googleapiclient.discovery import build"
   ]
  },
  {
   "cell_type": "code",
   "execution_count": 19,
   "id": "c3037677",
   "metadata": {},
   "outputs": [],
   "source": [
    "from dotenv import load_dotenv\n",
    "import os"
   ]
  },
  {
   "cell_type": "code",
   "execution_count": 20,
   "id": "96cda8d3",
   "metadata": {},
   "outputs": [],
   "source": [
    "def load_environment_variables():\n",
    "    load_dotenv()"
   ]
  },
  {
   "cell_type": "code",
   "execution_count": 21,
   "id": "b960e3d1",
   "metadata": {},
   "outputs": [],
   "source": [
    "load_environment_variables()\n",
    "YT_KEY = os.getenv('API_YT')"
   ]
  },
  {
   "cell_type": "code",
   "execution_count": 22,
   "id": "42f0eebd",
   "metadata": {},
   "outputs": [],
   "source": [
    "youtube = build('youtube', 'v3', developerKey=YT_KEY)"
   ]
  },
  {
   "cell_type": "code",
   "execution_count": 29,
   "id": "052c03e4",
   "metadata": {},
   "outputs": [],
   "source": [
    "request = youtube.commentThreads().list(part=\"snippet,replies\", videoId=\"kCc8FmEb1nY\", textFormat=\"plainText\" )"
   ]
  },
  {
   "cell_type": "code",
   "execution_count": 30,
   "id": "0ae4bd11",
   "metadata": {},
   "outputs": [],
   "source": [
    "\n",
    "replies = []\n",
    "comments = []\n",
    "dates = []\n",
    "user_names = []\n",
    "\n",
    "response = request.execute()\n",
    "\n",
    "for item in response['items']:\n",
    "    # Extracting comments\n",
    "    comment = item['snippet']['topLevelComment']['snippet']['textDisplay']\n",
    "    comments.append(comment)\n",
    "\n",
    "    user_name = item['snippet']['topLevelComment']['snippet']['authorDisplayName']\n",
    "    user_names.append(user_name)\n",
    "\n",
    "    date = item['snippet']['topLevelComment']['snippet']['publishedAt']\n",
    "    dates.append(date)\n",
    "\n",
    "    # counting number of reply of comment\n",
    "    replycount = item['snippet']['totalReplyCount']\n",
    "\n",
    "    # if reply is there\n",
    "    if replycount > 0:\n",
    "        # append empty list to replies\n",
    "        replies.append([])\n",
    "        # iterate through all reply\n",
    "        for reply in item['replies']['comments']:\n",
    "            # Extract reply\n",
    "            reply = reply['snippet']['textDisplay']\n",
    "            # append reply to last element of replies\n",
    "            replies[-1].append(reply)\n",
    "    else:\n",
    "        replies.append([])\n",
    "    \n",
    "    request = youtube.commentThreads().list_next(request, response)"
   ]
  },
  {
   "cell_type": "code",
   "execution_count": null,
   "id": "f299d5ab",
   "metadata": {},
   "outputs": [],
   "source": []
  }
 ],
 "metadata": {
  "kernelspec": {
   "display_name": ".venv",
   "language": "python",
   "name": "python3"
  },
  "language_info": {
   "codemirror_mode": {
    "name": "ipython",
    "version": 3
   },
   "file_extension": ".py",
   "mimetype": "text/x-python",
   "name": "python",
   "nbconvert_exporter": "python",
   "pygments_lexer": "ipython3",
   "version": "3.11.9"
  }
 },
 "nbformat": 4,
 "nbformat_minor": 5
}
